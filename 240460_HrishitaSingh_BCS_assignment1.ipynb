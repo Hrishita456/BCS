{
  "nbformat": 4,
  "nbformat_minor": 0,
  "metadata": {
    "colab": {
      "provenance": [],
      "toc_visible": true
    },
    "kernelspec": {
      "name": "python3",
      "display_name": "Python 3"
    },
    "language_info": {
      "name": "python"
    }
  },
  "cells": [
    {
      "cell_type": "markdown",
      "source": [
        "Part 1: Data Exploration with Pandas (30 Points)\n",
        "\n",
        "You will explore the California housing dataset in more detail and perform the following tasks. You can find the dataset downloaded by default in your Colab Environment in the sample_data folder:(/content/sample_data/california_housing_train.csv)\n",
        "\n",
        "Load the Dataset\n",
        "1. Load the dataset from the CSV file into a Pandas DataFrame.\n",
        "2. Display the first 5 and last 10 rows of the data.\n"
      ],
      "metadata": {
        "id": "8JwZQvJljw6Q"
      }
    },
    {
      "cell_type": "code",
      "source": [
        "import pandas as pd\n",
        "\n",
        "dframe = pd.read_csv('/content/sample_data/california_housing_train.csv')\n",
        "print(dframe.iloc[[0,1,2,3,4,-10, -9, -7, -6, -5, -4, -3, -2, -1]])\n"
      ],
      "metadata": {
        "id": "52BSJmMQjxk0"
      },
      "execution_count": null,
      "outputs": []
    },
    {
      "cell_type": "markdown",
      "source": [
        "Data Summary\n",
        "1. Get a statistical summary of the dataset to examine the numerical columns.\n",
        "2. Identify the unique values in the total_bedrooms column and determine how many distinct values it has.\n"
      ],
      "metadata": {
        "id": "r2tZ7_Vyjwpe"
      }
    },
    {
      "cell_type": "code",
      "source": [
        "import pandas as pd\n",
        "\n",
        "main_df = pd.read_csv('/content/sample_data/california_housing_train.csv')\n",
        "print(main_df.describe())\n",
        "unique_vals = main_df['total_bedrooms'].unique()\n",
        "print(unique_vals)\n",
        "print(len(unique_vals))\n"
      ],
      "metadata": {
        "id": "AzL9BMymD5eG"
      },
      "execution_count": null,
      "outputs": []
    },
    {
      "cell_type": "markdown",
      "source": [
        "Data Transformation\n",
        "1. Add a new column to the DataFrame named total_bedrooms_per_total_rooms, calculated as total_bedrooms / total_rooms.\n",
        "2. Compute the mean and standard deviation of the new column (total_bedrooms_per_total_rooms) and report these values."
      ],
      "metadata": {
        "id": "cyu1kNfIOcNr"
      }
    },
    {
      "cell_type": "code",
      "source": [
        "import pandas as pd\n",
        "\n",
        "df = pd.read_csv('/content/sample_data/california_housing_train.csv')\n",
        "df['total_bedrooms_per_total_rooms'] = df['total_bedrooms']/df['total_rooms']\n",
        "\n",
        "print(df['total_bedrooms_per_total_rooms'].mean())\n",
        "print(df['total_bedrooms_per_total_rooms'].std())"
      ],
      "metadata": {
        "id": "XsN7OWzkOSIL"
      },
      "execution_count": null,
      "outputs": []
    },
    {
      "cell_type": "markdown",
      "source": [
        "Data Filtering\n",
        "1. Filter the dataset to find rows where the median_income is greater than 5.\n",
        "2. Create a subset of the data where the number of rooms (total_rooms) exceeds 10,000 and the median_house_value is below $150,000. Display this filtered subset.\n"
      ],
      "metadata": {
        "id": "VtEbT7LSD8g1"
      }
    },
    {
      "cell_type": "code",
      "source": [
        "import pandas as pd\n",
        "\n",
        "df = pd.read_csv('/content/sample_data/california_housing_train.csv')\n",
        "filtered_rows = df[df['median_income']>5]\n",
        "\n",
        "subset = df[(df['total_rooms']>10000) & (df['median_house_value']<150000)]\n",
        "print(subset.to_string())"
      ],
      "metadata": {
        "id": "4QZ-vSrzEBfp"
      },
      "execution_count": null,
      "outputs": []
    },
    {
      "cell_type": "markdown",
      "source": [
        "Export Modified Data\n",
        "1. Save the modified DataFrame (after adding the extra column) to a new CSV file."
      ],
      "metadata": {
        "id": "XkfpTyONEB-2"
      }
    },
    {
      "cell_type": "code",
      "source": [
        "import pandas as pd\n",
        "\n",
        "df = pd.read_csv('/content/sample_data/california_housing_train.csv')\n",
        "df['total_bedrooms_per_total_rooms'] = df['total_bedrooms']/df['total_rooms']\n",
        "\n",
        "print(df['total_bedrooms_per_total_rooms'].mean())\n",
        "print(df['total_bedrooms_per_total_rooms'].std())\n",
        "\n",
        "df.to_csv('new_file.csv')"
      ],
      "metadata": {
        "id": "bO9iZdRJEGiB"
      },
      "execution_count": null,
      "outputs": []
    },
    {
      "cell_type": "markdown",
      "source": [
        "Part 2: Numerical Analysis with NumPy (30 Points)\n",
        "\n",
        "Array Creation and Indexing\n",
        "\n",
        "1 Create a 1D NumPy array of integers from 1 to 20.   \n",
        "2 Extract the even numbers from this array using slicing."
      ],
      "metadata": {
        "id": "ytnQ084gbn_D"
      }
    },
    {
      "cell_type": "code",
      "execution_count": 2,
      "metadata": {
        "colab": {
          "base_uri": "https://localhost:8080/"
        },
        "id": "N67egUYqbmaa",
        "outputId": "d7c00645-16d1-4cf2-ff75-779275c7a7be"
      },
      "outputs": [
        {
          "output_type": "stream",
          "name": "stdout",
          "text": [
            "[ 1  2  3  4  5  6  7  8  9 10 11 12 13 14 15 16 17 18 19 20]\n",
            "[ 2  4  6  8 10 12 14 16 18 20]\n"
          ]
        }
      ],
      "source": [
        "import numpy as np\n",
        "\n",
        "arr = np.array([1,2,3,4,5,6,7,8,9,10,11,12,13,14,15,16,17,18,19,20])\n",
        "\n",
        "print(arr)\n",
        "\n",
        "#extracting the even integers\n",
        "\n",
        "even = arr[1::2]\n",
        "\n",
        "print(even)"
      ]
    },
    {
      "cell_type": "markdown",
      "source": [
        "3 Create a 2D array with 5 rows and 4 columns, filled with random integers between 10 and 100.      \n",
        "\n",
        "4 Extract a 3x2 subarray from the 2D array (e.g., first three rows, first two columns).\n"
      ],
      "metadata": {
        "id": "zYUqeh_2cGfN"
      }
    },
    {
      "cell_type": "code",
      "source": [
        "import numpy as np\n",
        "\n",
        "arr = np.random.randint(10,100, size=(5,4))\n",
        "\n",
        "print(arr)\n",
        "\n",
        "print(arr[0:2,0:3])"
      ],
      "metadata": {
        "id": "_lB5QwfHct-q"
      },
      "execution_count": null,
      "outputs": []
    },
    {
      "cell_type": "markdown",
      "source": [
        "Part 3: Problem Solving with Python Basics (20 Points)\n",
        "\n",
        "Loops and Conditional Statements\n",
        "\n",
        "1 Print the Fibonacci sequence up to 100 using a loop.\n"
      ],
      "metadata": {
        "id": "Ur0l9JvRc6GN"
      }
    },
    {
      "cell_type": "code",
      "source": [
        "a=0\n",
        "b=1\n",
        "c=a+b\n",
        "while c<100:\n",
        "    print(c)\n",
        "    a=b\n",
        "    b=c\n",
        "    c=a+b"
      ],
      "metadata": {
        "id": "BMxib7Tzdnkl"
      },
      "execution_count": null,
      "outputs": []
    },
    {
      "cell_type": "markdown",
      "source": [
        "2 Loop through the numbers from 1 to 50 and print:\n",
        "\"Fizz\" for multiples of 3.\n",
        "\"Buzz\" for multiples of 5.\n",
        "\"FizzBuzz\" for multiples of both 3 and 5."
      ],
      "metadata": {
        "id": "Wt34X9Yee7j0"
      }
    },
    {
      "cell_type": "code",
      "source": [
        "a=int(input())\n",
        "for a in range(1,51):\n",
        " if a%15==0:\n",
        "      print(\"FizzBuzz\")\n",
        " elif a%3==0:\n",
        "      print(\"Fizz\")\n",
        " elif a%5==0:\n",
        "      print(\"Buzz\")\n",
        " else:\n",
        "      print(a)"
      ],
      "metadata": {
        "collapsed": true,
        "id": "dkKQUmnFfHz9"
      },
      "execution_count": null,
      "outputs": []
    },
    {
      "cell_type": "markdown",
      "source": [
        "Variable-Length Arguments\n",
        "\n",
        "3 Write a solution that accepts a list of numbers and returns the median value."
      ],
      "metadata": {
        "id": "vt-__z1yhg-0"
      }
    },
    {
      "cell_type": "code",
      "source": [
        "import statistics\n",
        "def new_median(nums): #type(nums)= <class 'list'>\n",
        "  return statistics.median(nums)\n"
      ],
      "metadata": {
        "id": "NPhLf0Idhm6J"
      },
      "execution_count": null,
      "outputs": []
    },
    {
      "cell_type": "markdown",
      "source": [
        "4 Write a solution that accepts a variable number of arguments and returns the average of the numbers."
      ],
      "metadata": {
        "id": "5-ttdGXuiIUZ"
      }
    },
    {
      "cell_type": "code",
      "source": [
        "import statistics\n",
        "def new_mean(*args):\n",
        "  return statistics.mean(args)\n"
      ],
      "metadata": {
        "id": "VvSYZ1kHiJKr"
      },
      "execution_count": null,
      "outputs": []
    },
    {
      "cell_type": "markdown",
      "source": [
        "Error Handling\n",
        "\n",
        "Handle the case where a division by zero occurs and print an appropriate error message"
      ],
      "metadata": {
        "id": "CDYxIjA2ifwL"
      }
    },
    {
      "cell_type": "code",
      "source": [
        "try:\n",
        "    print(1/0)\n",
        "except ZeroDivisionError:\n",
        "    print('Go study basic math')"
      ],
      "metadata": {
        "id": "Vr9oKweTioJC"
      },
      "execution_count": null,
      "outputs": []
    },
    {
      "cell_type": "markdown",
      "source": [
        "Part 4: Bonus Challenge (Optional) (20 Points)\n",
        "\n",
        "Advanced NumPy Manipulation\n",
        "\n",
        "1.  Create a 3D NumPy array with specific dimensions and populate it with random numbers.          \n",
        "2. Swap two of its axes.\n",
        "3. Perform an operation to calculate the sum of all the elements along a particular axis."
      ],
      "metadata": {
        "id": "Fw9ZYHRnwURJ"
      }
    },
    {
      "cell_type": "code",
      "source": [
        "import numpy as np\n",
        "\n",
        "txt= np.random.randint(1,101,size=(4,5,6))\n",
        "print(txt)\n",
        "\n",
        "#swapping the axes\n",
        "\n",
        "newtxt=np.swapaxes(txt,0,2)\n",
        "print(newtxt)\n",
        "\n",
        "#finding the sum along an axis\n",
        "\n",
        "summision= np.sum(txt,axis=0)\n",
        "print(summision)"
      ],
      "metadata": {
        "id": "1yoiGjLpwlV6"
      },
      "execution_count": null,
      "outputs": []
    },
    {
      "cell_type": "markdown",
      "source": [
        "4. Generate a random array and use broadcasting to perform an operation that adds a vector to each row of a 2D array.\n"
      ],
      "metadata": {
        "id": "E-HXjWuT7SCx"
      }
    },
    {
      "cell_type": "code",
      "source": [
        "txt = np.random.randint(1,20,size=(4,3))\n",
        "adder = [1,4,9]\n",
        "print(txt)\n",
        "print(txt+adder)"
      ],
      "metadata": {
        "id": "279mV0GCziv2"
      },
      "execution_count": null,
      "outputs": []
    }
  ]
}